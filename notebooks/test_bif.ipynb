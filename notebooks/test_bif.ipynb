{
 "cells": [
  {
   "cell_type": "code",
   "execution_count": null,
   "id": "7b42f21b-e227-4483-98e9-57fbfc676c32",
   "metadata": {},
   "outputs": [],
   "source": [
    "import sys, os"
   ]
  },
  {
   "cell_type": "code",
   "execution_count": null,
   "id": "9c99c778-9279-48b6-aaae-8f0d23d89f6f",
   "metadata": {},
   "outputs": [],
   "source": [
    "sys.path.extend([os.path.abspath('../')])"
   ]
  },
  {
   "cell_type": "code",
   "execution_count": null,
   "id": "1cec50e0-7808-4dd8-a34e-d1b58258387b",
   "metadata": {},
   "outputs": [],
   "source": [
    "import numpy as np\n",
    "from numba import njit\n",
    "from scipy.optimize import root\n"
   ]
  },
  {
   "cell_type": "code",
   "execution_count": null,
   "id": "9d0b408d-3086-410b-a2d8-026d78b0b747",
   "metadata": {},
   "outputs": [],
   "source": [
    "from qgs.params.params import QgParams\n",
    "from qgs.functions.tendencies import create_tendencies\n"
   ]
  },
  {
   "cell_type": "code",
   "execution_count": null,
   "id": "4ef823fa-03d9-47b0-9b19-0b7be2d4a1f8",
   "metadata": {},
   "outputs": [],
   "source": [
    "from auto2.diagrams.bifurcations import BifurcationDiagram"
   ]
  },
  {
   "cell_type": "markdown",
   "id": "af222dea-2047-4477-9ffb-7ef5d77bd75e",
   "metadata": {},
   "source": [
    "Creating qgs model"
   ]
  },
  {
   "cell_type": "code",
   "execution_count": null,
   "id": "f3f7ab2a-38d1-44d3-8e43-0a28c0854445",
   "metadata": {},
   "outputs": [],
   "source": [
    "model_parameters = QgParams({'phi0_npi': np.deg2rad(50.)/np.pi, 'n':1.3 }, dynamic_T=False)\n",
    "\n",
    "model_parameters.set_atmospheric_channel_fourier_modes(2, 2)\n",
    "model_parameters.set_ground_channel_fourier_modes(2, 2)\n",
    "\n",
    "# Changing (increasing) the orography depth\n",
    "model_parameters.ground_params.set_orography(0.2, 1)\n",
    "# Setting the parameters of the heat transfer from the soil\n",
    "model_parameters.gotemperature_params.set_params({'gamma': 1.6e7, 'T0': 300})\n",
    "model_parameters.atemperature_params.set_params({ 'hlambda':10, 'T0': 290})\n",
    "# Setting atmospheric parameters\n",
    "model_parameters.atmospheric_params.set_params({'sigma': 0.2, 'kd': 0.085, 'kdp': 0.02})\n",
    "\n",
    "# Setting insolation \n",
    "model_parameters.gotemperature_params.set_params({})\n",
    "\n",
    "C_g = 300\n",
    "model_parameters.atemperature_params.set_insolation(0.4*C_g , 0)\n",
    "\n",
    "model_parameters.gotemperature_params.set_insolation(C_g , 0)\n",
    "\n",
    "f, Df = create_tendencies(model_parameters)\n"
   ]
  },
  {
   "cell_type": "markdown",
   "id": "fc599405-a02c-4dd9-816b-ea056f7476f3",
   "metadata": {},
   "source": [
    "Finding fixed points"
   ]
  },
  {
   "cell_type": "code",
   "execution_count": null,
   "id": "da476ade-5a4f-40ad-82e7-894a8fabdf8f",
   "metadata": {},
   "outputs": [],
   "source": [
    "@njit\n",
    "def fnt(x):\n",
    "    return f(0., x)\n",
    "\n",
    "\n",
    "nsearch = 1000\n",
    "\n",
    "# Start on random initial conditions\n",
    "ic = 2 * (np.random.rand(nsearch, model_parameters.ndim) - 0.5) * 0.05\n",
    "\n",
    "eps = 1.e-6\n",
    "fixed_points = dict()\n",
    "\n",
    "sol_idx = 1\n",
    "for i in range(nsearch):\n",
    "    sol = root(fnt, ic[i, :])\n",
    "    if sol.success:\n",
    "        for idx in fixed_points:\n",
    "            if np.linalg.norm(fixed_points[idx] - sol.x) < eps:\n",
    "                break\n",
    "        else:\n",
    "            fixed_points[sol_idx] = sol.x\n",
    "            sol_idx+=1\n"
   ]
  },
  {
   "cell_type": "markdown",
   "id": "a33b7282-2faa-4077-95a7-828143b5d143",
   "metadata": {},
   "source": [
    "Compute fixed points bifurcation diagrams"
   ]
  },
  {
   "cell_type": "code",
   "execution_count": null,
   "id": "6b62413e-0bbd-449b-8cfb-ab2beff2faff",
   "metadata": {},
   "outputs": [],
   "source": [
    "par = {'C_go1': 300.}\n",
    "\n",
    "initial_points = list()\n",
    "\n",
    "for p in fixed_points:\n",
    "    initial_points.append({'parameters': par, 'initial_data': fixed_points[p]})\n",
    "\n",
    "print('Found ' + str(len(fixed_points)) + ' fixed points. Computing bifurcation diagram.')\n",
    "\n",
    "b = BifurcationDiagram('qgs_land-atmosphere_auto')\n",
    "\n",
    "b.compute_fixed_points_diagram(initial_points, extra_comparison_parameters=['psi_a_1', 'psi_a_2', 'psi_a_5'], comparison_tol=[1.e-3, 1.e-4, 1.e-4, 1.e-4],\n",
    "                               ICP=['C_go1'], PAR={'C_go1': 300., 2: 300. * 0.4, 3: 0.085, 4: 0.02})\n"
   ]
  },
  {
   "cell_type": "code",
   "execution_count": null,
   "id": "4939417e-3822-4a80-911b-4467796f4c80",
   "metadata": {},
   "outputs": [],
   "source": [
    "b.plot_fixed_points_diagram()"
   ]
  },
  {
   "cell_type": "code",
   "execution_count": null,
   "id": "9319f8d9-2021-4e10-9821-6df00ddea61f",
   "metadata": {},
   "outputs": [],
   "source": [
    "b.plot_fixed_points_diagram_3D((0,3,6))"
   ]
  },
  {
   "cell_type": "code",
   "execution_count": null,
   "id": "365fe027-1f76-4144-a494-54c9de86cd92",
   "metadata": {},
   "outputs": [],
   "source": []
  }
 ],
 "metadata": {
  "kernelspec": {
   "display_name": "Python 3 (ipykernel)",
   "language": "python",
   "name": "python3"
  },
  "language_info": {
   "codemirror_mode": {
    "name": "ipython",
    "version": 3
   },
   "file_extension": ".py",
   "mimetype": "text/x-python",
   "name": "python",
   "nbconvert_exporter": "python",
   "pygments_lexer": "ipython3",
   "version": "3.10.13"
  }
 },
 "nbformat": 4,
 "nbformat_minor": 5
}
