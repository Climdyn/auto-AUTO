{
 "cells": [
  {
   "cell_type": "markdown",
   "id": "67afbf72-0460-495b-a8d5-ea5b474cb85e",
   "metadata": {},
   "source": [
    "# AUTO$^2$ and AUTO-Demos : *lrz* - The Lorenz equation."
   ]
  },
  {
   "cell_type": "markdown",
   "id": "887b5a13-c7a2-4f1f-9818-cd9aaf1d6ec1",
   "metadata": {},
   "source": [
    "**This is an example on how to use AUTO$^2$ to explore the AUTO Demos *lrz* bifurcations and solutions.**"
   ]
  },
  {
   "attachments": {},
   "cell_type": "markdown",
   "id": "29b2f093-cc5e-4393-95ee-b13b6555a732",
   "metadata": {},
   "source": [
    "This example is concerned with the famous [Lorenz 63](https://en.wikipedia.org/wiki/Lorenz_system) model for [atmospheric convection](https://en.wikipedia.org/wiki/Lorenz_system#Model_for_atmospheric_convection), depicting the famous \"butterfly wings\".\n",
    "\n",
    "![ButterflyUrl](https://upload.wikimedia.org/wikipedia/commons/1/13/A_Trajectory_Through_Phase_Space_in_a_Lorenz_Attractor.gif \"butterfly\")\n",
    "Source: Wikipedia Commons\n",
    "\n",
    "Here, one can see a sample solution on the attractor when $\\rho = 28$, $\\sigma = 10$, and $\\beta = 8/3$ (see model equations below).\n",
    "\n",
    "The equations of the model are given by:\n",
    "\n",
    "$$\n",
    "\\dot x = \\sigma (y-x)\n",
    "$$\n",
    "$$\n",
    "\\dot y = x \\rho - y - x z\n",
    "$$\n",
    "$$\n",
    "\\dot z = x y - \\beta z\n",
    "$$\n",
    "\n",
    "The free parameter in the current example notebook is $\\rho$ . Other parameters are fixed.\n",
    "\n",
    "We are thus going to find the fixed points and periodic orbits of this system and continue them by varying $\\rho$.\n",
    "\n",
    "#### References\n",
    "\n",
    "* Lorenz, Edward Norton (1963). \"Deterministic nonperiodic flow\". *Journal of the Atmospheric Sciences*. **20** (2): 130–141. [doi:10.1175/1520-0469(1963)020<0130:DNF>2.0.CO;2](https://doi.org/10.1175%2F1520-0469%281963%29020%3C0130%3ADNF%3E2.0.CO%3B2).\n",
    "* Barrio, R., Shilnikov, A., & Shilnikov, L. (2012). Kneadings, symbolic dynamics and painting Lorenz chaos. *International Journal of Bifurcation and Chaos*, **22**(04), 1230016. [doi:10.1142/S0218127412300169](https://doi.org/10.1142/S0218127412300169)"
   ]
  },
  {
   "cell_type": "markdown",
   "id": "068dc83b-08d7-46f3-ae43-abff3f1ec98b",
   "metadata": {},
   "source": [
    "## Code"
   ]
  },
  {
   "cell_type": "markdown",
   "id": "a9baa5ae-59ba-40b7-848a-cda0adcde084",
   "metadata": {},
   "source": [
    "First we set the Python path if needed:"
   ]
  },
  {
   "cell_type": "code",
   "execution_count": null,
   "id": "79895273-dee7-4487-8216-13c897a6fe7d",
   "metadata": {},
   "outputs": [],
   "source": [
    "import sys, os"
   ]
  },
  {
   "cell_type": "code",
   "execution_count": null,
   "id": "62bd3d2e-85f9-47b1-b19d-0b07eb897e6b",
   "metadata": {},
   "outputs": [],
   "source": [
    "sys.path.extend([os.path.abspath('../../../')])"
   ]
  },
  {
   "cell_type": "markdown",
   "id": "087aabd5-0b18-4e0e-a75d-fd5ad5a6c5a3",
   "metadata": {},
   "source": [
    "And load the needed libraries, including AUTO$^2$:"
   ]
  },
  {
   "cell_type": "code",
   "execution_count": null,
   "id": "7730ed14-e5e0-4489-98a8-b1d98b7fb6cc",
   "metadata": {},
   "outputs": [],
   "source": [
    "import numpy as np\n",
    "from numba import njit\n",
    "from scipy.optimize import root\n",
    "from scipy.integrate import solve_ivp"
   ]
  },
  {
   "cell_type": "code",
   "execution_count": null,
   "id": "fff71a39-772c-42f4-a612-e48e8efc984c",
   "metadata": {},
   "outputs": [],
   "source": [
    "from auto2.diagrams.bifurcations import BifurcationDiagram"
   ]
  },
  {
   "cell_type": "markdown",
   "id": "100a2587-84e2-443e-a0bd-e0db3095944c",
   "metadata": {},
   "source": [
    "Creating the model equations"
   ]
  },
  {
   "cell_type": "code",
   "execution_count": null,
   "id": "f404cb5f-1c4b-42bf-b695-4089c5fb15d6",
   "metadata": {},
   "outputs": [],
   "source": [
    "@njit\n",
    "def lrz(X, rho, beta, sigma):\n",
    "    x = X[0]\n",
    "    y = X[1]\n",
    "    z = X[2]\n",
    "    F = np.zeros(3)\n",
    "    F[0] = sigma * (y - x)\n",
    "    F[1] = rho * x - y - x * z\n",
    "    F[2] = x * y - beta * z\n",
    "    return F\n",
    "\n",
    "@njit\n",
    "def lrzt(t, X, rho, beta, sigma):\n",
    "    return lrz(X, rho, beta, sigma)"
   ]
  },
  {
   "cell_type": "markdown",
   "id": "4957bd43-66b5-4a91-a448-7fab826b19ba",
   "metadata": {},
   "source": [
    "and define a set of standard parameters:"
   ]
  },
  {
   "cell_type": "code",
   "execution_count": null,
   "id": "c7dc6770-dc98-45d0-9c48-bbbdcaceabb3",
   "metadata": {},
   "outputs": [],
   "source": [
    "params = {\n",
    "    'rho': 24.5,\n",
    "    'beta': 8./3,\n",
    "    'sigma': 10.,\n",
    "}"
   ]
  },
  {
   "cell_type": "markdown",
   "id": "2b1b7b44-b32a-4eeb-9b41-c0d960006393",
   "metadata": {},
   "source": [
    "For reference later, we can compute a long trajectory on the attractor of this model:"
   ]
  },
  {
   "cell_type": "code",
   "execution_count": null,
   "id": "9e1b59f4-3c72-4b31-93eb-8d2aef7f495b",
   "metadata": {},
   "outputs": [],
   "source": [
    "#first a transient\n",
    "ic = np.zeros(3) + 0.01\n",
    "transient = solve_ivp(lrzt, (0., 1000.), ic, args=tuple(params.values()))"
   ]
  },
  {
   "cell_type": "code",
   "execution_count": null,
   "id": "874b36aa-e7a5-4efd-9f75-20b898f0e568",
   "metadata": {},
   "outputs": [],
   "source": [
    "# then the trajectory itself\n",
    "ic = transient['y'][:, -1]\n",
    "trajectory = solve_ivp(lrzt, (0., 1000.), ic, args=tuple(params.values()))"
   ]
  },
  {
   "cell_type": "markdown",
   "id": "65f3814d-a349-4d6f-9d7f-0c6593902def",
   "metadata": {},
   "source": [
    "Finding all the fixed points of the Lorenz 63 system for $\\beta = 8/3$, $\\sigma = 10$ and $\\rho = 0$ :"
   ]
  },
  {
   "cell_type": "code",
   "execution_count": null,
   "id": "e71158da-31b0-41d4-b2e4-7e8491d6ff7c",
   "metadata": {},
   "outputs": [],
   "source": [
    "params['rho'] = 0.\n",
    "nsearch = 1000\n",
    "\n",
    "# Start on random initial conditions\n",
    "ic = 2 * (np.random.rand(nsearch, 3) - 0.5) * 10.\n",
    "\n",
    "eps = 1.e-6\n",
    "fixed_points = dict()\n",
    "\n",
    "sol_idx = 1\n",
    "for i in range(nsearch):\n",
    "    sol = root(lrz, ic[i, :], args=tuple(params.values()))\n",
    "    if sol.success:\n",
    "        for idx in fixed_points:\n",
    "            if np.linalg.norm(fixed_points[idx] - sol.x) < eps:\n",
    "                break\n",
    "        else:\n",
    "            fixed_points[sol_idx] = sol.x\n",
    "            sol_idx+=1\n"
   ]
  },
  {
   "cell_type": "markdown",
   "id": "090629d5-7463-4e33-a5fd-29332eabf4b2",
   "metadata": {},
   "source": [
    "We have now the list of fixed points `fixed_points` and parameters dictionnary `params` that AUTO$^2$ will have to continue"
   ]
  },
  {
   "cell_type": "code",
   "execution_count": null,
   "id": "ee1707d9-7a2f-4b9e-a200-08f79f04f2de",
   "metadata": {},
   "outputs": [],
   "source": [
    "initial_points = list()\n",
    "\n",
    "for p in fixed_points:\n",
    "    initial_points.append({'parameters': params, 'initial_data': fixed_points[p]})\n"
   ]
  },
  {
   "cell_type": "markdown",
   "id": "1509e4d6-a874-4b5d-bc74-fa62f568e105",
   "metadata": {},
   "source": [
    "and thus we are now ready to compute the diagram of fixed points as a function of $\\rho$. Note that we specify that the bifurcation diagram object must load the ̀`lrz.f90` and `c.lrz` files where the Lorenz 63 model equations and continuation parameters have been written:"
   ]
  },
  {
   "cell_type": "code",
   "execution_count": null,
   "id": "91cae6fc-ec65-46c1-9a50-257b616ce198",
   "metadata": {},
   "outputs": [],
   "source": [
    "b = BifurcationDiagram('lrz')\n",
    "\n",
    "b.compute_fixed_points_diagram(initial_points,extra_comparison_parameters=['x', 'y'], comparison_tol=[1.e-1] * 3,\n",
    "                               ICP=['rho'], NMX=300, UZSTOP={'rho':[-10.,40.]}, UZR={'rho': list(np.arange(2,30, 2.5))}, NPR=0)"
   ]
  },
  {
   "cell_type": "markdown",
   "id": "2eab0e84-d43f-4693-b297-e7d188df216b",
   "metadata": {},
   "source": [
    "We can now plot the result as functions of $\\rho$ and $L^2$ norm :"
   ]
  },
  {
   "cell_type": "code",
   "execution_count": null,
   "id": "75641e8c-ccef-4d18-8ff8-d9b8424b5deb",
   "metadata": {},
   "outputs": [],
   "source": [
    "b.plot_fixed_points_diagram();"
   ]
  },
  {
   "cell_type": "markdown",
   "id": "6b80a08d-4074-42dc-9ab5-53e3d68c4cab",
   "metadata": {},
   "source": [
    "and also as functions of $x$ and $y$ :"
   ]
  },
  {
   "cell_type": "code",
   "execution_count": null,
   "id": "c89912f9-2677-4cc8-be27-e951d1c80b3b",
   "metadata": {},
   "outputs": [],
   "source": [
    "b.plot_fixed_points_diagram((2,3));"
   ]
  },
  {
   "cell_type": "markdown",
   "id": "533d0929-cf7c-47f4-b392-8896f95fc1bf",
   "metadata": {},
   "source": [
    "or in 3D as functions of $\\rho$, $L^2$ norm and $x$ :"
   ]
  },
  {
   "cell_type": "code",
   "execution_count": null,
   "id": "fe71f852-c03f-40a8-85a5-cf49e42def6b",
   "metadata": {},
   "outputs": [],
   "source": [
    "b.plot_fixed_points_diagram_3D();"
   ]
  },
  {
   "cell_type": "markdown",
   "id": "34af3b92-9622-4c87-a553-ae4fa38c43b4",
   "metadata": {},
   "source": [
    "We see that at 2 branches were found. The last one is symmetric and present distinct Hopf bifurcations."
   ]
  },
  {
   "cell_type": "markdown",
   "id": "ab4b5236-5d05-4a1f-b543-a9d768e6cca3",
   "metadata": {},
   "source": [
    "We can continue periodic orbits out of these Hopf bifurcations : "
   ]
  },
  {
   "cell_type": "code",
   "execution_count": null,
   "id": "03e733a0-fb59-4416-8a95-7752b8b15857",
   "metadata": {},
   "outputs": [],
   "source": [
    "b.compute_periodic_orbits_diagram(3, extra_comparison_parameters=['x', 'y'], max_number_bp=None, comparison_tol=[1.e-3, 1.e-3, 1.e-3],\n",
    "                                  ICP=['rho'])\n"
   ]
  },
  {
   "cell_type": "markdown",
   "id": "df79b205-31be-4ae4-ae21-80598464ff7c",
   "metadata": {},
   "source": [
    "and plot the results on a bifurcation diagram:"
   ]
  },
  {
   "cell_type": "code",
   "execution_count": null,
   "id": "13dfa84a-5097-47ac-9671-8a4f9b3eb5f8",
   "metadata": {},
   "outputs": [],
   "source": [
    "ax = b.plot_fixed_points_diagram()\n",
    "b.plot_periodic_orbits_diagram(ax=ax, cmap='gist_ncar');"
   ]
  },
  {
   "cell_type": "markdown",
   "id": "1672efa2-100c-456d-a50a-c4e041b22d1e",
   "metadata": {},
   "source": [
    "We can also plot both the bifurcation diagram and the solutions for a given value of $\\rho$:"
   ]
  },
  {
   "cell_type": "code",
   "execution_count": null,
   "id": "736ed1ca-dcda-4ec6-878c-7eb48cb056bf",
   "metadata": {},
   "outputs": [],
   "source": [
    "b.plot_diagram_and_solutions(22., solutions_variables=(0, 1), fixed_points_diagram_kwargs={'legend': True}, \n",
    "                             periodic_orbits_diagram_kwargs={'cmap': 'gist_ncar'});"
   ]
  },
  {
   "cell_type": "markdown",
   "id": "6c477cc2-7996-4d08-a972-da25357e2bce",
   "metadata": {},
   "source": [
    "You can compare this result with the animated figure at the top of the notebook.\n",
    "We can also plot the result in 3 dimensions to get a better view:"
   ]
  },
  {
   "cell_type": "code",
   "execution_count": null,
   "id": "6e576e02-6780-467c-9b60-24e256347288",
   "metadata": {},
   "outputs": [],
   "source": [
    "b.plot_diagram_in_3D_and_solutions_in_3D(22., solutions_variables=(0, 1, 2), fixed_points_diagram_kwargs={}, \n",
    "                                         periodic_orbits_diagram_kwargs={'cmap': 'gist_ncar'});"
   ]
  },
  {
   "cell_type": "markdown",
   "id": "7a273850-ccbf-459b-8e52-572c6ff77cb7",
   "metadata": {},
   "source": [
    "Finally, it is not hard to also plot the dynamics on the attractor (represented by the long trajectory computed beforehand) on top of the solutions to see their relevance:"
   ]
  },
  {
   "cell_type": "code",
   "execution_count": null,
   "id": "4c0eea31-477c-4cd1-ac07-1aadafe728c5",
   "metadata": {},
   "outputs": [],
   "source": [
    "axs = b.plot_diagram_and_solutions(24.5, solutions_variables=(0, 1), fixed_points_diagram_kwargs={'legend': True}, \n",
    "                             periodic_orbits_diagram_kwargs={'cmap': 'gist_ncar'})\n",
    "axs[1].plot(trajectory['y'][0], trajectory['y'][1], marker='o', ms=0.07, ls='', color='darkgray')"
   ]
  },
  {
   "cell_type": "markdown",
   "id": "8bc087ba-d901-4c6f-a7bf-9bcbf1e1ab14",
   "metadata": {},
   "source": [
    "One can see that the chaotic dynamics is constrained by the two found periodic orbits. In fact, for $\\rho=24.5$ (and values around), the basin of the Lorenz attractor is shielded away from the two stable symmetric equilibrium states by the 2D cylinder-shaped stable manifolds of the two “threshold” saddle orbits seen here. For more information, see Section 2.2 of Barrio et al. (2012) (see reference at the top of the notebook)."
   ]
  }
 ],
 "metadata": {
  "kernelspec": {
   "display_name": "Python 3 (ipykernel)",
   "language": "python",
   "name": "python3"
  },
  "language_info": {
   "codemirror_mode": {
    "name": "ipython",
    "version": 3
   },
   "file_extension": ".py",
   "mimetype": "text/x-python",
   "name": "python",
   "nbconvert_exporter": "python",
   "pygments_lexer": "ipython3",
   "version": "3.12.3"
  }
 },
 "nbformat": 4,
 "nbformat_minor": 5
}
