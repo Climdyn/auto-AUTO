{
 "cells": [
  {
   "cell_type": "markdown",
   "id": "67afbf72-0460-495b-a8d5-ea5b474cb85e",
   "metadata": {},
   "source": [
    "# AUTO$^2$ and AUTO-Demos : *plp* - Fold Continuation for Periodic Solutions."
   ]
  },
  {
   "cell_type": "markdown",
   "id": "887b5a13-c7a2-4f1f-9818-cd9aaf1d6ec1",
   "metadata": {},
   "source": [
    "**This is an example on how to use AUTO$^2$ to explore the AUTO Demos *plp* bifurcations and solutions.**"
   ]
  },
  {
   "cell_type": "markdown",
   "id": "29b2f093-cc5e-4393-95ee-b13b6555a732",
   "metadata": {},
   "source": [
    "In this example, a one-compartment activator-inhibitor system (Kernévez (1980)) is investigated. The equations of the model are given by:\n",
    "\n",
    "$$\n",
    "\\dot s = (s_0 - s) - \\rho \\, R(s, a)\n",
    "$$\n",
    "$$\n",
    "\\dot a = \\alpha (a_0 - a) - \\rho \\, R(s, a)\n",
    "$$\n",
    "\n",
    "where $R(s) = (s \\ a) / (1 + s + \\kappa\\, s^2)$ with $\\kappa > 0$. The free parameter is $\\rho$ . Other parameters are fixed. This equation is also considered in Doedel, Keller & Kernévez (1991a).\n",
    "\n",
    "We are thus going to find the fixed points and periodic orbits of this system and continue them by varying $\\rho$.\n",
    "\n",
    "#### References\n",
    "\n",
    "* Kernévez, J. P. (1980), *Enzyme Mathematics*, North-Holland Press, Amsterdam. [[link](https://books.google.be/books?hl=fr&lr=&id=04n1XU16khIC&oi=fnd&pg=PP1&dq=kernevez+enzyme+mathematics&ots=X_64rEJO8t&sig=nOF7rxGrchs3L5vGbpPgKHLyJ28#v=onepage&q=kernevez%20enzyme%20mathematics&f=false)]\n",
    "* Doedel, E. J., Keller, H. B. & Kernévez, J. P. (1991a), ‘Numerical analysis and control of\n",
    "bifurcation problems: (I) Bifurcation in finite dimensions’, *Int. J. Bifurcation and Chaos*\n",
    "**1**(3), 493–520. [[link](https://www.worldscientific.com/doi/abs/10.1142/s0218127491000397)]"
   ]
  },
  {
   "cell_type": "markdown",
   "id": "068dc83b-08d7-46f3-ae43-abff3f1ec98b",
   "metadata": {},
   "source": [
    "## Code"
   ]
  },
  {
   "cell_type": "markdown",
   "id": "a9baa5ae-59ba-40b7-848a-cda0adcde084",
   "metadata": {},
   "source": [
    "First we set the Python path if needed:"
   ]
  },
  {
   "cell_type": "code",
   "execution_count": null,
   "id": "79895273-dee7-4487-8216-13c897a6fe7d",
   "metadata": {},
   "outputs": [],
   "source": [
    "import sys, os"
   ]
  },
  {
   "cell_type": "code",
   "execution_count": null,
   "id": "62bd3d2e-85f9-47b1-b19d-0b07eb897e6b",
   "metadata": {},
   "outputs": [],
   "source": [
    "sys.path.extend([os.path.abspath('../../../')])"
   ]
  },
  {
   "cell_type": "markdown",
   "id": "087aabd5-0b18-4e0e-a75d-fd5ad5a6c5a3",
   "metadata": {},
   "source": [
    "And load the needed libraries, including AUTO$^2$:"
   ]
  },
  {
   "cell_type": "code",
   "execution_count": null,
   "id": "7730ed14-e5e0-4489-98a8-b1d98b7fb6cc",
   "metadata": {},
   "outputs": [],
   "source": [
    "import numpy as np\n",
    "from numba import njit\n",
    "from scipy.optimize import root\n",
    "from scipy.integrate import solve_ivp"
   ]
  },
  {
   "cell_type": "code",
   "execution_count": null,
   "id": "fff71a39-772c-42f4-a612-e48e8efc984c",
   "metadata": {},
   "outputs": [],
   "source": [
    "from auto2.diagrams.bifurcations import BifurcationDiagram"
   ]
  },
  {
   "cell_type": "markdown",
   "id": "100a2587-84e2-443e-a0bd-e0db3095944c",
   "metadata": {},
   "source": [
    "Creating the model equations"
   ]
  },
  {
   "cell_type": "code",
   "execution_count": null,
   "id": "f404cb5f-1c4b-42bf-b695-4089c5fb15d6",
   "metadata": {},
   "outputs": [],
   "source": [
    "# maybe finally not needed here\n",
    "\n",
    "@njit\n",
    "def plp(u, s0, a0, alpha, rho, kappa):\n",
    "    F = np.zeros(2)\n",
    "    s = u[0]\n",
    "    a = u[1]\n",
    "    d = 1 + s + kappa * s**2\n",
    "    r = s * a / d\n",
    "    F[1] = s0 - s - rho * r\n",
    "    F[2] = alpha * (a0 - a) - rho * r\n",
    "\n",
    "    return F\n",
    "\n",
    "@njit\n",
    "def plpt(t, u, s0, a0, alpha, rho, kappa):\n",
    "    return plp(u, s0, a0, alpha, rho, kappa)"
   ]
  },
  {
   "cell_type": "markdown",
   "id": "4957bd43-66b5-4a91-a448-7fab826b19ba",
   "metadata": {},
   "source": [
    "and define a set of standard parameters:"
   ]
  },
  {
   "cell_type": "code",
   "execution_count": null,
   "id": "c7dc6770-dc98-45d0-9c48-bbbdcaceabb3",
   "metadata": {},
   "outputs": [],
   "source": [
    "params = {\n",
    "    's0': 110.,\n",
    "    'a0': 500.,\n",
    "    'alpha': 0.2,\n",
    "    'rho': 2.021628,\n",
    "    'kappa': 0.1,\n",
    "}"
   ]
  },
  {
   "cell_type": "markdown",
   "id": "747e1388-0f9a-45c9-b1a9-5c75d3ff8406",
   "metadata": {},
   "source": [
    "Next we setup the list of points and parameters that AUTO$^2$ will have to continue. We are providing only one point for the value $\\rho = 2.021628$ :"
   ]
  },
  {
   "cell_type": "code",
   "execution_count": null,
   "id": "8e61fd77-12e8-46b5-8a66-b883fd64b6e4",
   "metadata": {},
   "outputs": [],
   "source": [
    "initial_points = list()\n",
    "\n",
    "initial_points.append({'parameters': params, 'initial_data': np.array([4.555974e1, 1.777987e2])})"
   ]
  },
  {
   "cell_type": "markdown",
   "id": "1509e4d6-a874-4b5d-bc74-fa62f568e105",
   "metadata": {},
   "source": [
    "We are now ready to compute the diagram of fixed points as a function of $\\rho$. Note that we specify that the bifurcation diagram object must load the ̀`plp.f90` and `c.plp` files where the model equations and continuation parameters have been written."
   ]
  },
  {
   "cell_type": "code",
   "execution_count": null,
   "id": "91cae6fc-ec65-46c1-9a50-257b616ce198",
   "metadata": {},
   "outputs": [],
   "source": [
    "b = BifurcationDiagram('plp')\n",
    "\n",
    "b.compute_fixed_points_diagram(initial_points,extra_comparison_parameters=['s', 'a'], comparison_tol=[1.e-1] * 3,\n",
    "                               ICP=['rho'], NMX=1000, UZSTOP={'rho':[2.,6.]}, UZR={'rho': list(np.arange(2.25, 6., 0.25))}, NPR=0)"
   ]
  },
  {
   "cell_type": "markdown",
   "id": "2eab0e84-d43f-4693-b297-e7d188df216b",
   "metadata": {},
   "source": [
    "We can now plot the result as functions of $\\rho$ and $L^2$ norm :"
   ]
  },
  {
   "cell_type": "code",
   "execution_count": null,
   "id": "75641e8c-ccef-4d18-8ff8-d9b8424b5deb",
   "metadata": {},
   "outputs": [],
   "source": [
    "b.plot_fixed_points_diagram(cmap='gist_ncar');"
   ]
  },
  {
   "cell_type": "markdown",
   "id": "6b80a08d-4074-42dc-9ab5-53e3d68c4cab",
   "metadata": {},
   "source": [
    "and also as functions of $s$ and $a$ :"
   ]
  },
  {
   "cell_type": "code",
   "execution_count": null,
   "id": "c89912f9-2677-4cc8-be27-e951d1c80b3b",
   "metadata": {},
   "outputs": [],
   "source": [
    "b.plot_fixed_points_diagram((2,3),cmap='gist_ncar');"
   ]
  },
  {
   "cell_type": "markdown",
   "id": "34af3b92-9622-4c87-a553-ae4fa38c43b4",
   "metadata": {},
   "source": [
    "We see that two Hopf bifurcations were found."
   ]
  },
  {
   "cell_type": "markdown",
   "id": "ab4b5236-5d05-4a1f-b543-a9d768e6cca3",
   "metadata": {},
   "source": [
    "We can continue periodic orbits out of these Hopf bifurcations : "
   ]
  },
  {
   "cell_type": "code",
   "execution_count": null,
   "id": "03e733a0-fb59-4416-8a95-7752b8b15857",
   "metadata": {},
   "outputs": [],
   "source": [
    "b.compute_periodic_orbits_diagram(\n",
    "    3, \n",
    "    extra_comparison_parameters=['s', 'a'], \n",
    "    comparison_tol=[1.e-1, 1.e-1, 1.e-1],\n",
    "    ICP=['rho']\n",
    ")\n"
   ]
  },
  {
   "cell_type": "markdown",
   "id": "df79b205-31be-4ae4-ae21-80598464ff7c",
   "metadata": {},
   "source": [
    "and plot the results on a bifurcation diagram in $L^2$ norm:"
   ]
  },
  {
   "cell_type": "code",
   "execution_count": null,
   "id": "13dfa84a-5097-47ac-9671-8a4f9b3eb5f8",
   "metadata": {},
   "outputs": [],
   "source": [
    "ax = b.plot_fixed_points_diagram(cmap='gist_ncar')\n",
    "b.plot_periodic_orbits_diagram(ax=ax);"
   ]
  },
  {
   "cell_type": "markdown",
   "id": "dd05c032-c90b-4d6f-9ba4-a90568b3c6b8",
   "metadata": {},
   "source": [
    "or in the maximum of the $a$ variable:"
   ]
  },
  {
   "cell_type": "code",
   "execution_count": null,
   "id": "42c573c7-61a9-42a4-9c51-418bb70b4881",
   "metadata": {},
   "outputs": [],
   "source": [
    "ax = b.plot_fixed_points_diagram(cmap='gist_ncar', variables=(0,3))\n",
    "b.plot_periodic_orbits_diagram(ax=ax, variables=(0,3));"
   ]
  },
  {
   "cell_type": "markdown",
   "id": "1672efa2-100c-456d-a50a-c4e041b22d1e",
   "metadata": {},
   "source": [
    "We can also plot both the bifurcation diagram and the solutions for a given value of $\\rho$:"
   ]
  },
  {
   "cell_type": "code",
   "execution_count": null,
   "id": "736ed1ca-dcda-4ec6-878c-7eb48cb056bf",
   "metadata": {},
   "outputs": [],
   "source": [
    "b.plot_diagram_and_solutions(3., solutions_variables=(0, 1), diagram_variables=(3,), fixed_points_diagram_kwargs={'legend': True, 'cmap': 'gist_ncar'}, );"
   ]
  },
  {
   "cell_type": "markdown",
   "id": "82cf9554-26cf-440d-a25b-e1565ff7e121",
   "metadata": {},
   "source": [
    "or plot a single branch and its solutions:"
   ]
  },
  {
   "cell_type": "code",
   "execution_count": null,
   "id": "2cfc9cce",
   "metadata": {},
   "outputs": [],
   "source": [
    "# plotting branch 4\n",
    "b.plot_single_po_branch_and_solutions(2, diagram_variables=(3,), cmap='Blues_r');"
   ]
  },
  {
   "cell_type": "markdown",
   "id": "aac98236-c333-4329-ae87-4eb3d5b217dd",
   "metadata": {},
   "source": [
    "You can now explore continuations in other parameters:"
   ]
  },
  {
   "cell_type": "code",
   "execution_count": null,
   "id": "53281f59-cc61-40d8-a4b7-1302de528190",
   "metadata": {},
   "outputs": [],
   "source": []
  }
 ],
 "metadata": {
  "kernelspec": {
   "display_name": "Python 3 (ipykernel)",
   "language": "python",
   "name": "python3"
  },
  "language_info": {
   "codemirror_mode": {
    "name": "ipython",
    "version": 3
   },
   "file_extension": ".py",
   "mimetype": "text/x-python",
   "name": "python",
   "nbconvert_exporter": "python",
   "pygments_lexer": "ipython3",
   "version": "3.12.3"
  }
 },
 "nbformat": 4,
 "nbformat_minor": 5
}
