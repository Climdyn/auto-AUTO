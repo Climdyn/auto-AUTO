{
 "cells": [
  {
   "cell_type": "markdown",
   "id": "67afbf72-0460-495b-a8d5-ea5b474cb85e",
   "metadata": {},
   "source": [
    "# AUTO$^2$ and AUTO-Demos : *tor* - Detection of Torus Bifurcations."
   ]
  },
  {
   "cell_type": "markdown",
   "id": "887b5a13-c7a2-4f1f-9818-cd9aaf1d6ec1",
   "metadata": {},
   "source": [
    "**This is an example on how to use AUTO$^2$ to explore the AUTO Demos *tor* bifurcations and solutions.**"
   ]
  },
  {
   "cell_type": "markdown",
   "id": "29b2f093-cc5e-4393-95ee-b13b6555a732",
   "metadata": {},
   "source": [
    "This demo uses a model in Freire, Rodrı́guez-Luis, Gamero & Ponce (1993) to illustrate the\n",
    "detection of torus bifurcations, branch switching and period-doubling bifurcations.\n",
    "The equations of the model are given by:\n",
    "\n",
    "$$\n",
    "\\dot x = (-(\\beta+\\nu) x +\\beta y - a_3 x^3 + b_3 (y-x)^3)/r\n",
    "$$\n",
    "$$\n",
    "\\dot y = \\beta x - (\\beta+\\gamma) y - z - b_3 (y-x)^3\n",
    "$$\n",
    "$$\n",
    "\\dot z = y\n",
    "$$\n",
    "\n",
    "and *it represents a coupling of two elemental circuits: a parallel RCL-circuit and a RC-circuit*.\n",
    "\n",
    "The free parameter in the current example notebook is $\\nu$ . Other parameters are fixed.\n",
    "\n",
    "We are thus going to find the fixed points and periodic orbits of this system and continue them by varying $\\nu$.\n",
    "\n",
    "#### References\n",
    "\n",
    "* Freire, E., Rodriguez-Luis, A. J., Gamero, E., & Ponce, E. (1993). A case study for homoclinic chaos in an autonomous electronic circuit: A trip from Takens-Bogdanov to Hopf-Šil'nikov. Physica D: Nonlinear Phenomena, 62(1-4), 230-253. [doi:10.1016/0167-2789(93)90284-8](https://doi.org/10.1016/0167-2789(93)90284-8)"
   ]
  },
  {
   "cell_type": "markdown",
   "id": "068dc83b-08d7-46f3-ae43-abff3f1ec98b",
   "metadata": {},
   "source": [
    "## Code"
   ]
  },
  {
   "cell_type": "markdown",
   "id": "a9baa5ae-59ba-40b7-848a-cda0adcde084",
   "metadata": {},
   "source": [
    "First we set the Python path if needed:"
   ]
  },
  {
   "cell_type": "code",
   "execution_count": null,
   "id": "79895273-dee7-4487-8216-13c897a6fe7d",
   "metadata": {},
   "outputs": [],
   "source": [
    "import sys, os"
   ]
  },
  {
   "cell_type": "code",
   "execution_count": null,
   "id": "62bd3d2e-85f9-47b1-b19d-0b07eb897e6b",
   "metadata": {},
   "outputs": [],
   "source": [
    "sys.path.extend([os.path.abspath('../../../')])"
   ]
  },
  {
   "cell_type": "markdown",
   "id": "087aabd5-0b18-4e0e-a75d-fd5ad5a6c5a3",
   "metadata": {},
   "source": [
    "And load the needed libraries, including AUTO$^2$:"
   ]
  },
  {
   "cell_type": "code",
   "execution_count": null,
   "id": "7730ed14-e5e0-4489-98a8-b1d98b7fb6cc",
   "metadata": {},
   "outputs": [],
   "source": [
    "import numpy as np\n",
    "from numba import njit\n",
    "from scipy.optimize import root\n",
    "from scipy.integrate import solve_ivp"
   ]
  },
  {
   "cell_type": "code",
   "execution_count": null,
   "id": "fff71a39-772c-42f4-a612-e48e8efc984c",
   "metadata": {},
   "outputs": [],
   "source": [
    "from auto2.diagrams.bifurcations import BifurcationDiagram"
   ]
  },
  {
   "cell_type": "markdown",
   "id": "100a2587-84e2-443e-a0bd-e0db3095944c",
   "metadata": {},
   "source": [
    "Creating the model equations"
   ]
  },
  {
   "cell_type": "code",
   "execution_count": null,
   "id": "f404cb5f-1c4b-42bf-b695-4089c5fb15d6",
   "metadata": {},
   "outputs": [],
   "source": [
    "@njit\n",
    "def tor(X, nu, beta, gamma, r, a3, b3):\n",
    "    x = X[0]\n",
    "    y = X[1]\n",
    "    z = X[2]\n",
    "    F = np.zeros(3)\n",
    "    F[0]= ( -(beta+nu)*x + beta*y - a3*x**3 + b3*(y-x)**3 )/r\n",
    "    F[1]=  beta*x - (beta+gamma)*y - z - b3*(y-x)**3\n",
    "    F[2]= y\n",
    "\n",
    "    return F\n",
    "\n",
    "@njit\n",
    "def tort(t, X, nu, beta, gamma, r, a3, b3):\n",
    "    return tor(X, nu, beta, gamma, r, a3, b3)"
   ]
  },
  {
   "cell_type": "markdown",
   "id": "4957bd43-66b5-4a91-a448-7fab826b19ba",
   "metadata": {},
   "source": [
    "and define a set of standard parameters:"
   ]
  },
  {
   "cell_type": "code",
   "execution_count": null,
   "id": "c7dc6770-dc98-45d0-9c48-bbbdcaceabb3",
   "metadata": {},
   "outputs": [],
   "source": [
    "params = {\n",
    "    'nu': -0.9,\n",
    "    'beta': 0.5,\n",
    "    'gamma': -0.6,\n",
    "    'r': 0.6,\n",
    "    'a3': 0.328578,\n",
    "    'b3': 0.933578,\n",
    "}"
   ]
  },
  {
   "cell_type": "markdown",
   "id": "2b1b7b44-b32a-4eeb-9b41-c0d960006393",
   "metadata": {},
   "source": [
    "For reference later, we can compute a long trajectory on the attractor of this model for $\\nu=-0.61$ :"
   ]
  },
  {
   "cell_type": "code",
   "execution_count": null,
   "id": "e62e2faa-0aa1-41a5-ac4f-edacf6ffa943",
   "metadata": {},
   "outputs": [],
   "source": [
    "par = params.copy()\n",
    "par['nu'] = -0.61"
   ]
  },
  {
   "cell_type": "code",
   "execution_count": null,
   "id": "d7aa0944-9225-4aaf-b80e-58f9249c759d",
   "metadata": {},
   "outputs": [],
   "source": [
    "parv = tuple([par['nu'], par['beta'], par['gamma'], par['r'], par['a3'], par['b3']])"
   ]
  },
  {
   "cell_type": "code",
   "execution_count": null,
   "id": "9e1b59f4-3c72-4b31-93eb-8d2aef7f495b",
   "metadata": {},
   "outputs": [],
   "source": [
    "#first a transient\n",
    "# ic = np.zeros(3) + 0.0001\n",
    "ic = np.array([ 2.67030e-01  , 2.22339e-26  , 1.51291e-01])\n",
    "transient = solve_ivp(tort, (0., 1000.), ic, args=parv)"
   ]
  },
  {
   "cell_type": "code",
   "execution_count": null,
   "id": "874b36aa-e7a5-4efd-9f75-20b898f0e568",
   "metadata": {},
   "outputs": [],
   "source": [
    "# then the trajectory itself\n",
    "ic = transient['y'][:, -1]\n",
    "trajectory = solve_ivp(tort, (0., 10000.), ic, args=parv)"
   ]
  },
  {
   "cell_type": "markdown",
   "id": "19a5cf72-dd8d-4d83-8689-eb6a3cab6c3d",
   "metadata": {},
   "source": [
    "Next we setup the list of points and parameters that AUTO$^2$ will have to continue. We are providing only one point for the value $\\nu = -0.9$ :"
   ]
  },
  {
   "cell_type": "code",
   "execution_count": null,
   "id": "ee1707d9-7a2f-4b9e-a200-08f79f04f2de",
   "metadata": {},
   "outputs": [],
   "source": [
    "initial_points = list()\n",
    "\n",
    "initial_points.append({'parameters': params, 'initial_data': np.array([0., 0., 0.])})"
   ]
  },
  {
   "cell_type": "markdown",
   "id": "1509e4d6-a874-4b5d-bc74-fa62f568e105",
   "metadata": {},
   "source": [
    "We are now ready to compute the diagram of fixed points as a function of $\\nu$. Note that we specify that the bifurcation diagram object must load the ̀`tor.f90` and `c.tor` files where the model equations and continuation parameters have been written."
   ]
  },
  {
   "cell_type": "code",
   "execution_count": null,
   "id": "91cae6fc-ec65-46c1-9a50-257b616ce198",
   "metadata": {},
   "outputs": [],
   "source": [
    "b = BifurcationDiagram('tor')\n",
    "\n",
    "b.compute_fixed_points_diagram(initial_points,extra_comparison_parameters=['x', 'y'], comparison_tol=[1.e-3] * 3,\n",
    "                               ICP=['nu'], NMX=300, UZSTOP={'nu':[-0.91,-0.4]}, UZR={'nu': list(np.arange(-0.8, -0.4, 0.1))+[par['nu'],]}, NPR=0)"
   ]
  },
  {
   "cell_type": "markdown",
   "id": "2eab0e84-d43f-4693-b297-e7d188df216b",
   "metadata": {},
   "source": [
    "We can now plot the result as functions of $\\nu$ and $L^2$ norm :"
   ]
  },
  {
   "cell_type": "code",
   "execution_count": null,
   "id": "75641e8c-ccef-4d18-8ff8-d9b8424b5deb",
   "metadata": {},
   "outputs": [],
   "source": [
    "b.plot_fixed_points_diagram();"
   ]
  },
  {
   "cell_type": "markdown",
   "id": "6b80a08d-4074-42dc-9ab5-53e3d68c4cab",
   "metadata": {},
   "source": [
    "and also as functions of $x$ and $z$ :"
   ]
  },
  {
   "cell_type": "code",
   "execution_count": null,
   "id": "c89912f9-2677-4cc8-be27-e951d1c80b3b",
   "metadata": {},
   "outputs": [],
   "source": [
    "b.plot_fixed_points_diagram((2,4));"
   ]
  },
  {
   "cell_type": "markdown",
   "id": "533d0929-cf7c-47f4-b392-8896f95fc1bf",
   "metadata": {},
   "source": [
    "or in 3D as functions of $\\nu$, $L^2$ norm and $x$ :"
   ]
  },
  {
   "cell_type": "code",
   "execution_count": null,
   "id": "fe71f852-c03f-40a8-85a5-cf49e42def6b",
   "metadata": {},
   "outputs": [],
   "source": [
    "b.plot_fixed_points_diagram_3D();"
   ]
  },
  {
   "cell_type": "markdown",
   "id": "34af3b92-9622-4c87-a553-ae4fa38c43b4",
   "metadata": {},
   "source": [
    "We see that 2 branches were found. The second one presents 2 distinct Hopf bifurcations."
   ]
  },
  {
   "cell_type": "markdown",
   "id": "ab4b5236-5d05-4a1f-b543-a9d768e6cca3",
   "metadata": {},
   "source": [
    "We can continue periodic orbits out of these Hopf bifurcations : "
   ]
  },
  {
   "cell_type": "code",
   "execution_count": null,
   "id": "03e733a0-fb59-4416-8a95-7752b8b15857",
   "metadata": {},
   "outputs": [],
   "source": [
    "b.compute_periodic_orbits_diagram(\n",
    "    5, \n",
    "    extra_comparison_parameters=['x', 'y'], \n",
    "    max_number_bp=None, \n",
    "    comparison_tol=[1.e-4, 1.e-4, 1.e-4],\n",
    "    ICP=['nu']\n",
    ")\n"
   ]
  },
  {
   "cell_type": "markdown",
   "id": "df79b205-31be-4ae4-ae21-80598464ff7c",
   "metadata": {},
   "source": [
    "and plot the results on a bifurcation diagram:"
   ]
  },
  {
   "cell_type": "code",
   "execution_count": null,
   "id": "13dfa84a-5097-47ac-9671-8a4f9b3eb5f8",
   "metadata": {},
   "outputs": [],
   "source": [
    "ax = b.plot_fixed_points_diagram()\n",
    "b.plot_periodic_orbits_diagram(ax=ax, cmap='gist_ncar');"
   ]
  },
  {
   "cell_type": "markdown",
   "id": "1672efa2-100c-456d-a50a-c4e041b22d1e",
   "metadata": {},
   "source": [
    "We can also plot both the bifurcation diagram and the solutions for a given value of $\\rho$:"
   ]
  },
  {
   "cell_type": "code",
   "execution_count": null,
   "id": "736ed1ca-dcda-4ec6-878c-7eb48cb056bf",
   "metadata": {},
   "outputs": [],
   "source": [
    "b.plot_diagram_and_solutions(-0.8, solutions_variables=(0, 1), fixed_points_diagram_kwargs={'legend': True}, \n",
    "                             periodic_orbits_diagram_kwargs={'cmap': 'gist_ncar'});"
   ]
  },
  {
   "cell_type": "markdown",
   "id": "2a2a102c-6af2-4c8f-8e22-07dc1ca0650c",
   "metadata": {},
   "source": [
    "which shows symmetrically connected fixed point via a heteroclinic connection, and possibly a close Shilnikov bifurcation."
   ]
  },
  {
   "cell_type": "markdown",
   "id": "82cf9554-26cf-440d-a25b-e1565ff7e121",
   "metadata": {},
   "source": [
    "Plotting a single branch and its solutions:"
   ]
  },
  {
   "cell_type": "code",
   "execution_count": null,
   "id": "2cfc9cce",
   "metadata": {},
   "outputs": [],
   "source": [
    "# plotting branch 4\n",
    "b.plot_single_po_branch_and_solutions(4, cmap='Blues_r')"
   ]
  },
  {
   "cell_type": "markdown",
   "id": "16241809-e02e-43ef-af4a-9b1f017453bc",
   "metadata": {},
   "source": [
    "shows an homoclinic connection for smaller values of the parameter $\\nu$."
   ]
  },
  {
   "cell_type": "markdown",
   "id": "6c477cc2-7996-4d08-a972-da25357e2bce",
   "metadata": {},
   "source": [
    "You can compare these results with the animated figure at the top of the notebook.\n",
    "We can also plot the result in 3 dimensions to get a better view:"
   ]
  },
  {
   "cell_type": "code",
   "execution_count": null,
   "id": "6e576e02-6780-467c-9b60-24e256347288",
   "metadata": {},
   "outputs": [],
   "source": [
    "b.plot_diagram_in_3D_and_solutions_in_3D(-0.8, solutions_variables=(0, 1, 2), fixed_points_diagram_kwargs={}, \n",
    "                                         periodic_orbits_diagram_kwargs={'cmap': 'gist_ncar'});"
   ]
  },
  {
   "cell_type": "markdown",
   "id": "7a273850-ccbf-459b-8e52-572c6ff77cb7",
   "metadata": {},
   "source": [
    "Finally, it is not hard to also plot the dynamics on the attractor (represented by the long trajectory computed beforehand) on top of the solutions to see their relevance:"
   ]
  },
  {
   "cell_type": "code",
   "execution_count": null,
   "id": "4c0eea31-477c-4cd1-ac07-1aadafe728c5",
   "metadata": {},
   "outputs": [],
   "source": [
    "axs = b.plot_diagram_and_solutions(par['nu'], solutions_variables=(0, 1), fixed_points_diagram_kwargs={'legend': True}, \n",
    "                             periodic_orbits_diagram_kwargs={'cmap': 'gist_ncar'})\n",
    "axs[1].plot(trajectory['y'][0], trajectory['y'][1], marker='o', ms=0.37, ls='', color='darkgray');"
   ]
  },
  {
   "cell_type": "markdown",
   "id": "c1660b9f-8f26-41c2-a511-3058998368c5",
   "metadata": {},
   "source": [
    "but as you can see, the found bifurcations (torus, homoclinic, heteroclinic, ...) do not really relate to the actual dynamics. For a more interesting case, please look at the `tor-shil` derivated demo."
   ]
  }
 ],
 "metadata": {
  "kernelspec": {
   "display_name": "Python 3 (ipykernel)",
   "language": "python",
   "name": "python3"
  },
  "language_info": {
   "codemirror_mode": {
    "name": "ipython",
    "version": 3
   },
   "file_extension": ".py",
   "mimetype": "text/x-python",
   "name": "python",
   "nbconvert_exporter": "python",
   "pygments_lexer": "ipython3",
   "version": "3.12.3"
  }
 },
 "nbformat": 4,
 "nbformat_minor": 5
}
