{
 "cells": [
  {
   "cell_type": "markdown",
   "id": "67afbf72-0460-495b-a8d5-ea5b474cb85e",
   "metadata": {},
   "source": [
    "# AUTO$^2$ and AUTO-Demos : *enz* - Stationary Solutions of an Enzyme Model."
   ]
  },
  {
   "cell_type": "markdown",
   "id": "887b5a13-c7a2-4f1f-9818-cd9aaf1d6ec1",
   "metadata": {},
   "source": [
    "**This is an example on how to use AUTO$^2$ to explore the AUTO Demos *enz* bifurcations and solutions.**"
   ]
  },
  {
   "cell_type": "markdown",
   "id": "29b2f093-cc5e-4393-95ee-b13b6555a732",
   "metadata": {},
   "source": [
    "In this example, a model of a two-compartment enzyme system (Kernévez (1980)) is investigated. The equations of the model are given by:\n",
    "\n",
    "$$\n",
    "\\dot s_1 = (s_0 - s_1) + (s_2 - s_1) - \\rho \\, R(s_1)\n",
    "$$\n",
    "$$\n",
    "\\dot s_2 = (s_0 + \\mu - s_2) - (s_2 - s_1) - \\rho \\, R(s_2)\n",
    "$$\n",
    "\n",
    "where $R(s) = s / (1 + s + \\kappa\\, s^2)$. The free parameter is $s_0$ . Other parameters are fixed. This equation is also considered in Doedel, Keller & Kernévez (1991a).\n",
    "\n",
    "We are thus going to find the fixed points of this system and continue them by varying $s_0$.\n",
    "\n",
    "#### References\n",
    "\n",
    "* Kernévez, J. P. (1980), *Enzyme Mathematics*, North-Holland Press, Amsterdam. [[link](https://books.google.be/books?hl=fr&lr=&id=04n1XU16khIC&oi=fnd&pg=PP1&dq=kernevez+enzyme+mathematics&ots=X_64rEJO8t&sig=nOF7rxGrchs3L5vGbpPgKHLyJ28#v=onepage&q=kernevez%20enzyme%20mathematics&f=false)]\n",
    "* Doedel, E. J., Keller, H. B. & Kernévez, J. P. (1991a), ‘Numerical analysis and control of\n",
    "bifurcation problems: (I) Bifurcation in finite dimensions’, *Int. J. Bifurcation and Chaos*\n",
    "**1**(3), 493–520. [[link](https://www.worldscientific.com/doi/abs/10.1142/s0218127491000397)]"
   ]
  },
  {
   "cell_type": "markdown",
   "id": "068dc83b-08d7-46f3-ae43-abff3f1ec98b",
   "metadata": {},
   "source": [
    "## Code"
   ]
  },
  {
   "cell_type": "markdown",
   "id": "a9baa5ae-59ba-40b7-848a-cda0adcde084",
   "metadata": {},
   "source": [
    "First we set the Python path if needed:"
   ]
  },
  {
   "cell_type": "code",
   "execution_count": null,
   "id": "79895273-dee7-4487-8216-13c897a6fe7d",
   "metadata": {},
   "outputs": [],
   "source": [
    "import sys, os"
   ]
  },
  {
   "cell_type": "code",
   "execution_count": null,
   "id": "62bd3d2e-85f9-47b1-b19d-0b07eb897e6b",
   "metadata": {},
   "outputs": [],
   "source": [
    "sys.path.extend([os.path.abspath('../../../')])"
   ]
  },
  {
   "cell_type": "markdown",
   "id": "087aabd5-0b18-4e0e-a75d-fd5ad5a6c5a3",
   "metadata": {},
   "source": [
    "And load the needed libraries, including AUTO$^2$:"
   ]
  },
  {
   "cell_type": "code",
   "execution_count": null,
   "id": "7730ed14-e5e0-4489-98a8-b1d98b7fb6cc",
   "metadata": {},
   "outputs": [],
   "source": [
    "import numpy as np\n",
    "from numba import njit\n",
    "from scipy.optimize import root"
   ]
  },
  {
   "cell_type": "code",
   "execution_count": null,
   "id": "fff71a39-772c-42f4-a612-e48e8efc984c",
   "metadata": {},
   "outputs": [],
   "source": [
    "from auto2.diagrams.bifurcations import BifurcationDiagram"
   ]
  },
  {
   "cell_type": "markdown",
   "id": "100a2587-84e2-443e-a0bd-e0db3095944c",
   "metadata": {},
   "source": [
    "Creating the model equations"
   ]
  },
  {
   "cell_type": "code",
   "execution_count": null,
   "id": "f404cb5f-1c4b-42bf-b695-4089c5fb15d6",
   "metadata": {},
   "outputs": [],
   "source": [
    "@njit\n",
    "def enz(s, s0, mu, rho, kappa):\n",
    "    F = np.zeros(2)\n",
    "    F[0]=(s0   -s[0]) + (s[1]-s[0]) - rho * (s[0]/(1+s[0]+kappa*s[0]**2))\n",
    "    F[1]=(s0+mu-s[1]) + (s[0]-s[1]) - rho * (s[1]/(1+s[1]+kappa*s[1]**2))\n",
    "    return F\n"
   ]
  },
  {
   "cell_type": "markdown",
   "id": "090629d5-7463-4e33-a5fd-29332eabf4b2",
   "metadata": {},
   "source": [
    "Next we setup the list of points and parameters that AUTO$^2$ will have to continue. We are providing only the point **0** for a value $s_0 = 0$ :"
   ]
  },
  {
   "cell_type": "code",
   "execution_count": null,
   "id": "00958ea2-c1c7-4e5c-99cd-913c23e3aeb9",
   "metadata": {},
   "outputs": [],
   "source": [
    "initial_points = list()\n",
    "par = {'s0': 0, 'mu': 0, 'rho': 100, 'kappa': 1}\n",
    "\n",
    "initial_points.append({'parameters': par, 'initial_data': np.zeros(2)})"
   ]
  },
  {
   "cell_type": "markdown",
   "id": "1509e4d6-a874-4b5d-bc74-fa62f568e105",
   "metadata": {},
   "source": [
    "We are now ready to compute the diagram of fixed points as a function of $s_0$. Note that we specify that the bifurcation diagram object must load the ̀`enz.f90` and `c.enz` files where the enzyme model equations and continuation parameters have been written."
   ]
  },
  {
   "cell_type": "code",
   "execution_count": null,
   "id": "91cae6fc-ec65-46c1-9a50-257b616ce198",
   "metadata": {},
   "outputs": [],
   "source": [
    "b = BifurcationDiagram('enz')\n",
    "\n",
    "b.compute_fixed_points_diagram(initial_points,extra_comparison_parameters=['s1', 's2'], comparison_tol=[4.e-1] * 3,\n",
    "                               ICP=['s0'], NMX=300, UZSTOP={'s0':[-1.,40.]})"
   ]
  },
  {
   "cell_type": "markdown",
   "id": "2eab0e84-d43f-4693-b297-e7d188df216b",
   "metadata": {},
   "source": [
    "We can now plot the result as functions of $s_1$ and $s_2$ :"
   ]
  },
  {
   "cell_type": "code",
   "execution_count": null,
   "id": "c89912f9-2677-4cc8-be27-e951d1c80b3b",
   "metadata": {},
   "outputs": [],
   "source": [
    "b.plot_fixed_points_diagram((2,3));"
   ]
  },
  {
   "cell_type": "markdown",
   "id": "533d0929-cf7c-47f4-b392-8896f95fc1bf",
   "metadata": {},
   "source": [
    "or in 3D as functions of $s_0$, $s_1$ and $s_2$ :"
   ]
  },
  {
   "cell_type": "code",
   "execution_count": null,
   "id": "fe71f852-c03f-40a8-85a5-cf49e42def6b",
   "metadata": {},
   "outputs": [],
   "source": [
    "b.plot_fixed_points_diagram_3D((0,2,3));"
   ]
  },
  {
   "cell_type": "markdown",
   "id": "b5b3328a-6aab-4c9f-bb0b-265e8c972c1a",
   "metadata": {},
   "source": [
    "We see that at least 2 branches were found. The third one is maybe a duplicate so this need to be inspected further."
   ]
  },
  {
   "cell_type": "markdown",
   "id": "9b2efbf7-76e0-4ce0-955a-c73c2e02128d",
   "metadata": {},
   "source": [
    "Other functionalities include for example showing the number of solutions found along a branch:"
   ]
  },
  {
   "cell_type": "code",
   "execution_count": null,
   "id": "e3ac5eee-a4bd-42f0-9997-f883d84b6c06",
   "metadata": {},
   "outputs": [],
   "source": [
    "b.get_continuation(1).number_of_solutions"
   ]
  },
  {
   "cell_type": "markdown",
   "id": "2c5b0291-75b7-4601-866b-18eaec3613a8",
   "metadata": {},
   "source": [
    "and printing the summary of the continuation:"
   ]
  },
  {
   "cell_type": "code",
   "execution_count": null,
   "id": "1faad12a-19be-4011-8a09-4c4d786b8990",
   "metadata": {},
   "outputs": [],
   "source": [
    "b.get_continuation(1).print_summary()"
   ]
  },
  {
   "cell_type": "markdown",
   "id": "e6dca547-f555-46cf-ab9f-0b9c17cd97bf",
   "metadata": {},
   "source": [
    "You can now explore continuations in other parameters:"
   ]
  },
  {
   "cell_type": "code",
   "execution_count": null,
   "id": "e3388a4b-efc3-4531-8440-56ea5c276167",
   "metadata": {},
   "outputs": [],
   "source": []
  }
 ],
 "metadata": {
  "kernelspec": {
   "display_name": "Python 3 (ipykernel)",
   "language": "python",
   "name": "python3"
  },
  "language_info": {
   "codemirror_mode": {
    "name": "ipython",
    "version": 3
   },
   "file_extension": ".py",
   "mimetype": "text/x-python",
   "name": "python",
   "nbconvert_exporter": "python",
   "pygments_lexer": "ipython3",
   "version": "3.10.13"
  }
 },
 "nbformat": 4,
 "nbformat_minor": 5
}
