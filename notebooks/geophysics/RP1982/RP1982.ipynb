{
 "cells": [
  {
   "cell_type": "markdown",
   "id": "67afbf72-0460-495b-a8d5-ea5b474cb85e",
   "metadata": {},
   "source": [
    "# AUTO$^2$ and a \"high-dimensional\" example : The Reinhold & Pierrehumbert 1982 model"
   ]
  },
  {
   "cell_type": "markdown",
   "id": "887b5a13-c7a2-4f1f-9818-cd9aaf1d6ec1",
   "metadata": {},
   "source": [
    "**This is an example on how to use AUTO$^2$ to compute bifurcations and solutions in the case of a rather high-dimensional model (from the point of view of bifurcation theory). This example aims to provide a glimpse at how to use AUTO$^2$ to deal with such system.**"
   ]
  },
  {
   "cell_type": "markdown",
   "id": "29b2f093-cc5e-4393-95ee-b13b6555a732",
   "metadata": {},
   "source": [
    "This example is concerned with with a 2-layer channel QG atmosphere truncated at wavenumber 2 on a beta-plane and a simple orography (a mountain and a valley), derived in 1982 by Reinhold and Pierrehumbert (RP1982 hereafter).\n",
    "\n",
    "![RP1982Url](https://github.com/Climdyn/qgs/blob/master/misc/figs/readme.gif?raw=true)\n",
    "Source: [qgs code repository](https://github.com/Climdyn/qgs)\n",
    "\n",
    "The AUTO Fortran and configuration files have been prepared thanks to the qgs framework.\n",
    "See in particular [this notebook](https://github.com/Climdyn/qgs/blob/master/notebooks/symbolic_outputs/symbolic_output_land_atmosphere-AUTO.ipynb) for an example on how to prepare those files.\n",
    "\n",
    "The equations of the model are too complex to be displayed here, please see the original article for details.\n",
    "See also [here](https://github.com/Climdyn/qgs/blob/master/notebooks/introduction_qgs.ipynb) for an introduction to the `qgs` framework involving the RP1982 model.\n",
    "However, the model dimension is 20, and there are two sets of variables, $\\psi_{\\rm a, i}$ and $\\theta_{\\rm a, i}$, corresponding to the spectral components of respectively the barotropic and baroclinic streamfunctions. These two streamfunctions are respectively related themselves to the 500hPa pressure and temperature anomalies.\n",
    "\n",
    "In addition, five **nondimensional** parameters have been left as variables in the model tendencies equations:\n",
    "\n",
    "* $\\theta^\\ast_1$ : The first spectral components of the equilibrium temperature profile at 500hPa (the middle of the model atmosphere). It corresponds to a zonal, North-South, temperature gradient.\n",
    "* $h_{k,2}$ : The second spectral components of the orography, corresponding to a mountain at the zonal border of the domain, and a valley in the center. It's value determine the relative height between the top of the mountain, and the bottom of the valley.\n",
    "* $k_d$ : The atmosphere bottom friction coefficient with the ground.\n",
    "* $k'_d$ : The atmosphere internal friction coefficient.\n",
    "* $\\sigma$ : The static stability of the atmosphere.\n",
    "\n",
    "The free parameter in the current example notebook is $\\theta^\\ast_1$ (`thetas_1`) . Other parameters are fixed.\n",
    "\n",
    "We are thus going to find the fixed points and periodic orbits of this system and continue them by varying $\\theta^\\ast_1$.\n",
    "\n",
    "#### References\n",
    "\n",
    "* Reinhold, B. B., & Pierrehumbert, R. T. (1982). *Dynamics of weather regimes: Quasi-stationary waves and blocking.* Monthly Weather Review, **110** (9), 1105-1145. [doi:10.1175/1520-0493(1982)110%3C1105:DOWRQS%3E2.0.CO;2](https://doi.org/10.1175/1520-0493(1982)110%3C1105:DOWRQS%3E2.0.CO;2)"
   ]
  },
  {
   "cell_type": "markdown",
   "id": "068dc83b-08d7-46f3-ae43-abff3f1ec98b",
   "metadata": {},
   "source": [
    "## Code"
   ]
  },
  {
   "cell_type": "markdown",
   "id": "a9baa5ae-59ba-40b7-848a-cda0adcde084",
   "metadata": {},
   "source": [
    "First we set the Python path if needed:"
   ]
  },
  {
   "cell_type": "code",
   "execution_count": null,
   "id": "79895273-dee7-4487-8216-13c897a6fe7d",
   "metadata": {},
   "outputs": [],
   "source": [
    "import sys, os"
   ]
  },
  {
   "cell_type": "code",
   "execution_count": null,
   "id": "62bd3d2e-85f9-47b1-b19d-0b07eb897e6b",
   "metadata": {},
   "outputs": [],
   "source": [
    "sys.path.extend([os.path.abspath('../../../')])"
   ]
  },
  {
   "cell_type": "markdown",
   "id": "087aabd5-0b18-4e0e-a75d-fd5ad5a6c5a3",
   "metadata": {},
   "source": [
    "And load the needed libraries, including AUTO$^2$:"
   ]
  },
  {
   "cell_type": "code",
   "execution_count": null,
   "id": "7730ed14-e5e0-4489-98a8-b1d98b7fb6cc",
   "metadata": {},
   "outputs": [],
   "source": [
    "import numpy as np\n",
    "from numba import njit\n",
    "from scipy.optimize import root\n",
    "from scipy.integrate import solve_ivp"
   ]
  },
  {
   "cell_type": "code",
   "execution_count": null,
   "id": "fff71a39-772c-42f4-a612-e48e8efc984c",
   "metadata": {},
   "outputs": [],
   "source": [
    "from auto2.diagrams.bifurcations import BifurcationDiagram"
   ]
  },
  {
   "cell_type": "markdown",
   "id": "77433a62-fac7-4327-9a76-748be53d46e1",
   "metadata": {},
   "source": [
    "Loading also `qgs` framework to generate the model output:"
   ]
  },
  {
   "cell_type": "code",
   "execution_count": null,
   "id": "c9b365b8-3b0e-4aca-bd6d-ae3e4bd4c5fe",
   "metadata": {},
   "outputs": [],
   "source": [
    "# Installing qgs if needed (uncomment the line below and run)\n",
    "# !pip install qgs"
   ]
  },
  {
   "cell_type": "code",
   "execution_count": null,
   "id": "49af121c-3a21-411b-b5d7-f1f1dddf2f65",
   "metadata": {},
   "outputs": [],
   "source": [
    "from qgs.params.params import QgParams\n",
    "from qgs.functions.tendencies import create_tendencies"
   ]
  },
  {
   "cell_type": "markdown",
   "id": "75cb7a94-67b6-4f1e-afa1-109128a2dee2",
   "metadata": {},
   "source": [
    "Setting the random number generator seed for reproducibility (comment if you don't need that)\n"
   ]
  },
  {
   "cell_type": "code",
   "execution_count": null,
   "id": "e58a19f2-1181-4d2a-94a8-400540a8689a",
   "metadata": {},
   "outputs": [],
   "source": [
    "np.random.seed(1402)"
   ]
  },
  {
   "cell_type": "markdown",
   "id": "100a2587-84e2-443e-a0bd-e0db3095944c",
   "metadata": {},
   "source": [
    "Creating the model equations"
   ]
  },
  {
   "cell_type": "code",
   "execution_count": null,
   "id": "5bfedcba-e107-42de-9b1b-c6436ea3cd24",
   "metadata": {},
   "outputs": [],
   "source": [
    "# Model parameters instantiation with some non-default specs\n",
    "model_parameters = QgParams({'phi0_npi': np.deg2rad(50.)/np.pi, 'hd':0.045})\n",
    "# Mode truncation at the wavenumber 2 in both x and y spatial coordinate\n",
    "model_parameters.set_atmospheric_channel_fourier_modes(2, 2)\n",
    "\n",
    "# Setting the orography depth and the meridional temperature gradient\n",
    "model_parameters.ground_params.set_orography(0.2, 1)\n",
    "model_parameters.atemperature_params.set_thetas(0.1, 0)"
   ]
  },
  {
   "cell_type": "code",
   "execution_count": null,
   "id": "cb04930a-9eca-4e21-9903-4cdd717e6df9",
   "metadata": {},
   "outputs": [],
   "source": [
    "f, Df = create_tendencies(model_parameters)"
   ]
  },
  {
   "cell_type": "code",
   "execution_count": null,
   "id": "f404cb5f-1c4b-42bf-b695-4089c5fb15d6",
   "metadata": {},
   "outputs": [],
   "source": [
    "# defining a tendencies function with a f(x) signature\n",
    "@njit\n",
    "def fnt(x):\n",
    "    return f(0.,x)"
   ]
  },
  {
   "cell_type": "markdown",
   "id": "9d34a72b-6608-4093-8f88-4927b4318cd0",
   "metadata": {},
   "source": [
    "and define a set of standard parameters:"
   ]
  },
  {
   "cell_type": "code",
   "execution_count": null,
   "id": "427e4125-0fcd-4e15-937d-c3baa4e3eefc",
   "metadata": {},
   "outputs": [],
   "source": [
    "params = {\n",
    "    'thetas_1': 0.1,\n",
    "    'hk_2': 0.2,\n",
    "    'k_d': 0.1,\n",
    "    'k_p': 0.01,\n",
    "    'sigma': 0.2,\n",
    "}\n"
   ]
  },
  {
   "cell_type": "markdown",
   "id": "2b1b7b44-b32a-4eeb-9b41-c0d960006393",
   "metadata": {},
   "source": [
    "For reference later, we can compute a long trajectory on the attractor of this model for $\\theta^\\ast_1 = 0.1$:"
   ]
  },
  {
   "cell_type": "code",
   "execution_count": null,
   "id": "9e1b59f4-3c72-4b31-93eb-8d2aef7f495b",
   "metadata": {},
   "outputs": [],
   "source": [
    "#first a transient\n",
    "ic = np.zeros(model_parameters.ndim) + 0.0001\n",
    "transient = solve_ivp(f, (0., 200000.), ic)"
   ]
  },
  {
   "cell_type": "code",
   "execution_count": null,
   "id": "874b36aa-e7a5-4efd-9f75-20b898f0e568",
   "metadata": {},
   "outputs": [],
   "source": [
    "# then the trajectory itself\n",
    "ic = transient['y'][:, -1]\n",
    "trajectory = solve_ivp(f, (0., 100000.), ic)"
   ]
  },
  {
   "cell_type": "markdown",
   "id": "65f3814d-a349-4d6f-9d7f-0c6593902def",
   "metadata": {},
   "source": [
    "Finding all the fixed points of system for $\\theta^\\ast_1 = 0.1$ :"
   ]
  },
  {
   "cell_type": "code",
   "execution_count": null,
   "id": "e71158da-31b0-41d4-b2e4-7e8491d6ff7c",
   "metadata": {},
   "outputs": [],
   "source": [
    "nsearch = 10000\n",
    "\n",
    "# Start on random initial conditions\n",
    "ic = 2 * (np.random.rand(nsearch, model_parameters.ndim) - 0.5) * 0.1\n",
    "\n",
    "eps = 1.e-6\n",
    "fixed_points = dict()\n",
    "\n",
    "sol_idx = 1\n",
    "for i in range(nsearch):\n",
    "    sol = root(fnt, ic[i, :])\n",
    "    if sol.success:\n",
    "        for idx in fixed_points:\n",
    "            if np.linalg.norm(fixed_points[idx] - sol.x) < eps:\n",
    "                break\n",
    "        else:\n",
    "            fixed_points[sol_idx] = sol.x\n",
    "            sol_idx+=1\n"
   ]
  },
  {
   "cell_type": "markdown",
   "id": "090629d5-7463-4e33-a5fd-29332eabf4b2",
   "metadata": {},
   "source": [
    "We have now the list of fixed points `fixed_points` and parameters dictionnary `params` that AUTO$^2$ will have to continue"
   ]
  },
  {
   "cell_type": "code",
   "execution_count": null,
   "id": "ee1707d9-7a2f-4b9e-a200-08f79f04f2de",
   "metadata": {},
   "outputs": [],
   "source": [
    "initial_points = list()\n",
    "\n",
    "for p in fixed_points:\n",
    "    initial_points.append({'parameters': params, 'initial_data': fixed_points[p]})\n"
   ]
  },
  {
   "cell_type": "markdown",
   "id": "1509e4d6-a874-4b5d-bc74-fa62f568e105",
   "metadata": {},
   "source": [
    "and thus we are now ready to compute the diagram of fixed points as a function of $\\theta^\\ast_1$ (`thetas_1`). Note that we specify that the bifurcation diagram object must load the ̀`qgs_RP1982.f90` and `c.qgs_RP1982` files where the RP 1982 model equations and continuation parameters have been written:"
   ]
  },
  {
   "cell_type": "code",
   "execution_count": null,
   "id": "91cae6fc-ec65-46c1-9a50-257b616ce198",
   "metadata": {},
   "outputs": [],
   "source": [
    "b = BifurcationDiagram('qgs_RP1982')\n",
    "\n",
    "b.compute_fixed_points_diagram(initial_points,\n",
    "                               extra_comparison_parameters=['psi_a_1', 'psi_a_2', 'psi_a_5'], \n",
    "                               comparison_tol=[1.e-4] * 4,\n",
    "                               ICP=['thetas_1'], \n",
    "                               NPR=0)"
   ]
  },
  {
   "cell_type": "markdown",
   "id": "2eab0e84-d43f-4693-b297-e7d188df216b",
   "metadata": {},
   "source": [
    "We can now plot the result as functions of $\\theta^\\ast_1$ (`thetas_1`) and $L^2$ norm :"
   ]
  },
  {
   "cell_type": "code",
   "execution_count": null,
   "id": "75641e8c-ccef-4d18-8ff8-d9b8424b5deb",
   "metadata": {},
   "outputs": [],
   "source": [
    "b.plot_fixed_points_diagram();"
   ]
  },
  {
   "cell_type": "markdown",
   "id": "6b80a08d-4074-42dc-9ab5-53e3d68c4cab",
   "metadata": {},
   "source": [
    "and also as functions of $\\psi_{\\rm a,1}$ and $\\psi_{\\rm a,2}$ :"
   ]
  },
  {
   "cell_type": "code",
   "execution_count": null,
   "id": "c89912f9-2677-4cc8-be27-e951d1c80b3b",
   "metadata": {},
   "outputs": [],
   "source": [
    "b.plot_fixed_points_diagram((2,3));"
   ]
  },
  {
   "cell_type": "markdown",
   "id": "533d0929-cf7c-47f4-b392-8896f95fc1bf",
   "metadata": {},
   "source": [
    "or in 3D as functions of $\\theta^\\ast_1$ (`thetas_1`), $L^2$ norm and $\\psi_{\\rm a,1}$ :"
   ]
  },
  {
   "cell_type": "code",
   "execution_count": null,
   "id": "fe71f852-c03f-40a8-85a5-cf49e42def6b",
   "metadata": {},
   "outputs": [],
   "source": [
    "b.plot_fixed_points_diagram_3D();"
   ]
  },
  {
   "cell_type": "markdown",
   "id": "34af3b92-9622-4c87-a553-ae4fa38c43b4",
   "metadata": {},
   "source": [
    "We see that at many branches were found, and many Hopf bifurcations. "
   ]
  },
  {
   "cell_type": "markdown",
   "id": "ab4b5236-5d05-4a1f-b543-a9d768e6cca3",
   "metadata": {},
   "source": [
    "We can continue periodic orbits out of these Hopf bifurcations, stopping at the 3rd generation of found bifurcation points (level 3) : "
   ]
  },
  {
   "cell_type": "markdown",
   "id": "747c6e5a-c907-4bfe-8c72-198c7d004d90",
   "metadata": {},
   "source": [
    "**Beware: starting the next cell will launch computations that last 20 minutes on a recent 12 cores CPU !**"
   ]
  },
  {
   "cell_type": "code",
   "execution_count": null,
   "id": "03e733a0-fb59-4416-8a95-7752b8b15857",
   "metadata": {
    "scrolled": true
   },
   "outputs": [],
   "source": [
    "b.compute_periodic_orbits_diagram(\n",
    "    3, \n",
    "    max_number_bp=None, \n",
    "    maximum_period=1.e9,  # avoid continuity issues when the period get too big\n",
    "    extra_comparison_parameters=['psi_a_1', 'psi_a_2', 'psi_a_5'], \n",
    "    comparison_tol=[1.e-4] * 4,\n",
    "    ICP=['thetas_1'], \n",
    "    NMX=1000,  # cutoff to avoid too long computations in this example, we might miss some solutions though  \n",
    ")\n"
   ]
  },
  {
   "cell_type": "markdown",
   "id": "df79b205-31be-4ae4-ae21-80598464ff7c",
   "metadata": {},
   "source": [
    "and plot the results on a (complicated) bifurcation diagram:"
   ]
  },
  {
   "cell_type": "code",
   "execution_count": null,
   "id": "13dfa84a-5097-47ac-9671-8a4f9b3eb5f8",
   "metadata": {},
   "outputs": [],
   "source": [
    "ax = b.plot_fixed_points_diagram(legend=False)\n",
    "b.plot_periodic_orbits_diagram(ax=ax, cmap='gist_ncar', legend=False);"
   ]
  },
  {
   "cell_type": "markdown",
   "id": "1672efa2-100c-456d-a50a-c4e041b22d1e",
   "metadata": {},
   "source": [
    "We can also plot both the bifurcation diagram and the solutions for a given value of $\\theta^\\ast_1$:"
   ]
  },
  {
   "cell_type": "code",
   "execution_count": null,
   "id": "736ed1ca-dcda-4ec6-878c-7eb48cb056bf",
   "metadata": {},
   "outputs": [],
   "source": [
    "b.plot_diagram_and_solutions(0.11, solutions_variables=(2, 1), fixed_points_diagram_kwargs={'legend': False}, \n",
    "                             periodic_orbits_diagram_kwargs={'cmap': 'gist_ncar', 'legend': False});"
   ]
  },
  {
   "cell_type": "markdown",
   "id": "82cf9554-26cf-440d-a25b-e1565ff7e121",
   "metadata": {},
   "source": [
    "or plot a single branch and its solutions:"
   ]
  },
  {
   "cell_type": "code",
   "execution_count": null,
   "id": "2cfc9cce",
   "metadata": {},
   "outputs": [],
   "source": [
    "# plotting branch 21\n",
    "b.plot_single_po_branch_and_solutions(21, solutions_variables=(2, 1), cmap='Blues_r')"
   ]
  },
  {
   "cell_type": "markdown",
   "id": "7a273850-ccbf-459b-8e52-572c6ff77cb7",
   "metadata": {},
   "source": [
    "Finally, it is not hard to also plot the dynamics on the attractor (represented by the long trajectory computed beforehand) on top of the solutions to see their relevance:"
   ]
  },
  {
   "cell_type": "code",
   "execution_count": null,
   "id": "4c0eea31-477c-4cd1-ac07-1aadafe728c5",
   "metadata": {},
   "outputs": [],
   "source": [
    "axs = b.plot_diagram_and_solutions(0.1, solutions_variables=(2, 1), fixed_points_diagram_kwargs={'legend': False}, \n",
    "                             periodic_orbits_diagram_kwargs={'cmap': 'gist_ncar', 'legend': False})\n",
    "axs[1].plot(trajectory['y'][2], trajectory['y'][1], marker='o', ms=0.17, ls='', color='darkgray');"
   ]
  },
  {
   "cell_type": "markdown",
   "id": "8bc087ba-d901-4c6f-a7bf-9bcbf1e1ab14",
   "metadata": {},
   "source": [
    "One can see that the chaotic dynamics is roughly explained by the found periodic orbits (although many many more are still missing)."
   ]
  },
  {
   "cell_type": "markdown",
   "id": "2212915e-5c3f-4621-bf88-0ed9fbf6707b",
   "metadata": {},
   "source": [
    "You can restart the computation up to a higher level by uncommenting and running the code below:"
   ]
  },
  {
   "cell_type": "code",
   "execution_count": null,
   "id": "fc3b838a-bda8-4bcb-aa87-896a7bed6095",
   "metadata": {},
   "outputs": [],
   "source": [
    "# b.compute_periodic_orbits_diagram(\n",
    "#     5, \n",
    "#     max_number_bp=None, \n",
    "#     maximum_period=1.e9,  # avoid continuity issues when the period get too big\n",
    "#     extra_comparison_parameters=['psi_a_1', 'psi_a_2', 'psi_a_5'], \n",
    "#     comparison_tol=[1.e-4] * 4,\n",
    "#     ICP=['thetas_1'], \n",
    "#     NMX=1000,  # cutoff to avoid too long computations in this example, we might miss some solutions though  \n",
    "# )"
   ]
  }
 ],
 "metadata": {
  "kernelspec": {
   "display_name": "Python 3 (ipykernel)",
   "language": "python",
   "name": "python3"
  },
  "language_info": {
   "codemirror_mode": {
    "name": "ipython",
    "version": 3
   },
   "file_extension": ".py",
   "mimetype": "text/x-python",
   "name": "python",
   "nbconvert_exporter": "python",
   "pygments_lexer": "ipython3",
   "version": "3.10.6"
  }
 },
 "nbformat": 4,
 "nbformat_minor": 5
}
